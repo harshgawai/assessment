{
 "cells": [
  {
   "cell_type": "code",
   "execution_count": 108,
   "metadata": {
    "collapsed": true
   },
   "outputs": [],
   "source": [
    "import pandas as pd\n",
    "from pytrends.request import TrendReq\n",
    "from pytrendsdaily import getDailyData\n",
    "from datetime import date\n"
   ]
  },
  {
   "cell_type": "code",
   "execution_count": 137,
   "outputs": [],
   "source": [
    "key = ['bitcoin']\n",
    "inp = int(input('Press 1 for daily data and 2 for weekly data: '))"
   ],
   "metadata": {
    "collapsed": false,
    "pycharm": {
     "name": "#%%\n"
    }
   }
  },
  {
   "cell_type": "code",
   "execution_count": 138,
   "outputs": [],
   "source": [
    "pytrends = TrendReq()\n",
    "today = date.today()\n",
    "interval ='2015-01-01 ' + str(today)"
   ],
   "metadata": {
    "collapsed": false,
    "pycharm": {
     "name": "#%%\n"
    }
   }
  },
  {
   "cell_type": "code",
   "execution_count": 151,
   "outputs": [
    {
     "name": "stdout",
     "output_type": "stream",
     "text": [
      "            bitcoin  isPartial\n",
      "date                          \n",
      "2017-09-24       13      False\n",
      "2017-10-01       12      False\n",
      "2017-10-08       18      False\n",
      "2017-10-15       20      False\n",
      "2017-10-22       20      False\n",
      "...             ...        ...\n",
      "2022-08-14       18      False\n",
      "2022-08-21       17      False\n",
      "2022-08-28       18      False\n",
      "2022-09-04       17      False\n",
      "2022-09-11       17      False\n",
      "\n",
      "[260 rows x 2 columns]\n"
     ]
    }
   ],
   "source": [
    "pytrends.build_payload(kw_list=key, timeframe=interval)\n",
    "data = pytrends.interest_over_time()\n",
    "print(data)\n",
    "\n",
    "if(inp==1):\n",
    "    data = data[key[0]].resample('D', convention = 'start').ffill()\n",
    "    data = pd.DataFrame(data)\n",
    "else:\n",
    "   data = data[key[0]].resample('W', convention = 'start').ffill()\n",
    "   data = pd.DataFrame(data)\n",
    "data.to_csv('data.csv')"
   ],
   "metadata": {
    "collapsed": false,
    "pycharm": {
     "name": "#%%\n"
    }
   }
  },
  {
   "cell_type": "code",
   "execution_count": null,
   "outputs": [],
   "source": [],
   "metadata": {
    "collapsed": false,
    "pycharm": {
     "name": "#%%\n"
    }
   }
  }
 ],
 "metadata": {
  "kernelspec": {
   "display_name": "Python 3",
   "language": "python",
   "name": "python3"
  },
  "language_info": {
   "codemirror_mode": {
    "name": "ipython",
    "version": 2
   },
   "file_extension": ".py",
   "mimetype": "text/x-python",
   "name": "python",
   "nbconvert_exporter": "python",
   "pygments_lexer": "ipython2",
   "version": "2.7.6"
  }
 },
 "nbformat": 4,
 "nbformat_minor": 0
}